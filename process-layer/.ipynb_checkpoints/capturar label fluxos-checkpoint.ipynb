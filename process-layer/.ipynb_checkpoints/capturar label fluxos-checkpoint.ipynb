{
 "cells": [
  {
   "cell_type": "code",
   "execution_count": 1,
   "metadata": {},
   "outputs": [],
   "source": [
    "#fluxo = np.genfromtxt('fluxo_puro.txt', delimiter=',')\n",
    "fluxo = []\n",
    "arq = open('fluxo_puro.txt', 'r')\n",
    "texto = arq.readlines()\n",
    "for linha in texto :\n",
    "    a = linha.split(',')\n",
    "    fluxo.append(a)\n",
    "arq.close()"
   ]
  },
  {
   "cell_type": "code",
   "execution_count": 2,
   "metadata": {},
   "outputs": [],
   "source": [
    "label = []\n",
    "\n",
    "for i in fluxo:\n",
    "    c = 0\n",
    "    \n",
    "    if int(i[1]) == 45700:\n",
    "        j = 1.0\n",
    "        c = 1\n",
    "    elif int(i[1]) == 45550:\n",
    "        j = 1.0\n",
    "        c = 1\n",
    "    elif int(i[1]) == 45560:\n",
    "        j = 1.0\n",
    "        c = 1\n",
    "    \n",
    "    if c != 1:    \n",
    "        if int(i[3]) == 45700:\n",
    "            j = 1.0\n",
    "        elif int(i[3]) == 45550:\n",
    "            j = 1.0\n",
    "        elif int(i[3]) == 45560:\n",
    "            j = 1.0\n",
    "        else:\n",
    "            j = 0.0\n",
    "    label.append(j)\n",
    "\n",
    "for i in label:\n",
    "    with open('lbl_fluxos.txt', 'a') as arq:\n",
    "        arq.write(str(i))\n",
    "        arq.write('\\n')\n"
   ]
  },
  {
   "cell_type": "code",
   "execution_count": null,
   "metadata": {},
   "outputs": [],
   "source": []
  }
 ],
 "metadata": {
  "kernelspec": {
   "display_name": "Python 3",
   "language": "python",
   "name": "python3"
  },
  "language_info": {
   "codemirror_mode": {
    "name": "ipython",
    "version": 3
   },
   "file_extension": ".py",
   "mimetype": "text/x-python",
   "name": "python",
   "nbconvert_exporter": "python",
   "pygments_lexer": "ipython3",
   "version": "3.7.0"
  }
 },
 "nbformat": 4,
 "nbformat_minor": 2
}
